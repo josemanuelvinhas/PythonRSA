{
  "nbformat": 4,
  "nbformat_minor": 0,
  "metadata": {
    "colab": {
      "name": "PythonRSA.ipynb",
      "provenance": [],
      "collapsed_sections": [],
      "toc_visible": true,
      "authorship_tag": "ABX9TyPXOs3f0VspUxbuubEyK5x3"
    },
    "kernelspec": {
      "name": "python3",
      "display_name": "Python 3"
    }
  },
  "cells": [
    {
      "cell_type": "markdown",
      "metadata": {
        "id": "Pb91qMSTmZPk"
      },
      "source": [
        "#**0. Instalar Crypto**"
      ]
    },
    {
      "cell_type": "markdown",
      "metadata": {
        "id": "4pCPHgeFmvya"
      },
      "source": [
        "Como paso previo debemos instalar la librería Crypto"
      ]
    },
    {
      "cell_type": "code",
      "metadata": {
        "id": "xC_hqVS1mqiR"
      },
      "source": [
        "!pip install pycryptodome==3.4.3"
      ],
      "execution_count": null,
      "outputs": []
    },
    {
      "cell_type": "markdown",
      "metadata": {
        "id": "744aZ8uRjXeH"
      },
      "source": [
        "#**1. Generar claves de cifrado RSA**"
      ]
    },
    {
      "cell_type": "markdown",
      "metadata": {
        "id": "aO1LkGUikUek"
      },
      "source": [
        "El siguiente script genera un par de claves:\n",
        "1. Clave privada: se puede modificar el nombre en la variable *name_key_private*\n",
        "2. Clave pública: se puede modificar el nombre en la variable *name_key_public*\n",
        "\n",
        "Ambas claves se guardarán en formato *.pem*, específico para certificados digitales."
      ]
    },
    {
      "cell_type": "code",
      "metadata": {
        "id": "vggYQWfDjgP6"
      },
      "source": [
        "import Crypto\n",
        "from Crypto.PublicKey import RSA\n",
        "\n",
        "random_generator = Crypto.Random.new().read\n",
        "\n",
        "private_key = RSA.generate(2048, random_generator)\n",
        "public_key = private_key.publickey()\n",
        "\n",
        "name_key_private = \"private\"\n",
        "name_key_public = \"public\"\n",
        "\n",
        "with open (name_key_private + \".pem\", \"wb\") as prv_file:\n",
        "      prv_file.write(private_key.exportKey(\"PEM\"))\n",
        "\n",
        "with open (name_key_public + \".pem\", \"wb\") as pub_file:\n",
        "      pub_file.write(public_key.exportKey(\"PEM\"))\n",
        "\n"
      ],
      "execution_count": 21,
      "outputs": []
    },
    {
      "cell_type": "markdown",
      "metadata": {
        "id": "xC0FXXDdm8B9"
      },
      "source": [
        "#**2. Cifrar un mensaje**"
      ]
    },
    {
      "cell_type": "markdown",
      "metadata": {
        "id": "nFegjimppeL4"
      },
      "source": [
        "A continuación ciframos un mensaje con una clave almacenada en un archivo *.pem*\n",
        "\n",
        "\n",
        "*   El mensaje a cifrar se especifica en la variable *message*\n",
        "*   El nombre del archivo de la clave se especifica en la variable *name_file_key* (se debe tener encuenta que se le añade la extensión automáticamente)\n",
        "\n",
        "*NOTA: se debe cifrar con la clave pública del destinatario, para que descifre el mensaje con su clave privada*\n",
        "\n"
      ]
    },
    {
      "cell_type": "code",
      "metadata": {
        "id": "XGbrOfsam_1y",
        "outputId": "779b5e51-80e8-44d0-b097-86d920fedc47",
        "colab": {
          "base_uri": "https://localhost:8080/"
        }
      },
      "source": [
        "from Crypto.Cipher import PKCS1_OAEP\n",
        "from Crypto.PublicKey import RSA\n",
        "from base64 import b64decode\n",
        "\n",
        "message = \"Prueba de mensaje secreto\"\n",
        "\n",
        "name_file_key = \"public\"\n",
        "\n",
        "with open( name_file_key + \".pem\", 'rb') as key_file:\n",
        "    key = RSA.importKey(key_file.read())\n",
        "\n",
        "cipher = PKCS1_OAEP.new(key)\n",
        "message_encrypted = cipher.encrypt(message.encode())\n",
        "\n",
        "message_encrypted"
      ],
      "execution_count": 32,
      "outputs": [
        {
          "output_type": "execute_result",
          "data": {
            "text/plain": [
              "b'\\x9f\\x9dX<\\xae ~\\x0bq!Y\\x19W;\\xe7\\x12\\x98qFc{\\xd6\\xc7JwM\\xab)\\xab\\x7f\\xd2\\xe6\\xd0\\x9c\\xf8x\\xca\\x975\\xe6\\x1b\\xf5\\xda\\x8a\\xab<\\x90Q\\xf46\\xdd\\xc4r\\x95\\x16\\xe5\\xb5gM\\xc7\\xfe\\xc4]r\\xe4\\x12\\xcd\\x03\\x0e;\\x9b\\xb5\\xd4\\xee\\xaa\\x92qp\\x95\\x83\\xf2_\\xfd\\xbe\\xfb\\x02\\xc4{\\x1c.p\\xeeG\\xa7n\\xe7\\xe5\\xea\\xc0\\xd6t\\x8b\\xc6\\xbex\\x02\\x94\\xaf~\\x96o\\x1e\\x16\\xfa\\xd3\\x07\\x02\\xfa*-j\\xed\\x86\\xabU[\\xbd\\xb2F\\x95\\x15\\x1b!\\x13X\\xbf3\\xe6\\xf6w\\x1c+\\xbbo\\xee\\xdfx\\x9d\\xa9\\xd1\\xa5.\\xcb*G\\xb9\\xf9\\xe4\\xaa\\x1e\\x00\\xc8\\xd9H\\xc5\\x88\\xf9\\xaaN\\x07\\x11\\xa8\\xbeA@\\xf2\\xfd~\\xb3l&\\xa1i\\xcd\\xf6\\xc9L-\\xeaeU\\xae69\\xbbEb\\xaa\\x15\\xa0u\\xdaFm;4\\x07?\\xa4[\\x13lX\\x12\\x99\\xe0\\x9cU5\\xdb:1\\x03\\xf2\\xec\\xf7\\xee~\\x97\\x99\\xd9\\x16\\xfb\\xc8\\xbfs\\x030\\x99L\"=\\xde\\x08=\\xda\\x07\\x7f.\\x02\\xc4\\x97\\xd6\\xc7\\x01\\xfd'"
            ]
          },
          "metadata": {
            "tags": []
          },
          "execution_count": 32
        }
      ]
    },
    {
      "cell_type": "markdown",
      "metadata": {
        "id": "LAo16JIkvU99"
      },
      "source": [
        "#**3. Descifrar un mensaje**"
      ]
    },
    {
      "cell_type": "markdown",
      "metadata": {
        "id": "MeJtRVcJyrFY"
      },
      "source": [
        "A continuación desciframos un mensaje con una clave almacenada en un archivo *.pem*\n",
        "\n",
        "\n",
        "*   El mensaje a descifrar se especifica en la variable *encrypted_message*\n",
        "*   El nombre del archivo de la clave se especifica en la variable *name_file_key* (se debe tener encuenta que se le añade la extensión automáticamente)\n",
        "\n",
        "*NOTA: el mensaje se descifra con la clave privada, ya que el mensaje fue cifrado con la clave pública*"
      ]
    },
    {
      "cell_type": "code",
      "metadata": {
        "id": "DTt9t5ERvYj9",
        "outputId": "5e7482f9-3f16-43bb-c4f2-bd3576c736e7",
        "colab": {
          "base_uri": "https://localhost:8080/"
        }
      },
      "source": [
        "from Crypto.Cipher import PKCS1_OAEP\n",
        "from Crypto.PublicKey import RSA\n",
        "from base64 import b64decode\n",
        "\n",
        "encrypted_message = b'\\x9f\\x9dX<\\xae ~\\x0bq!Y\\x19W;\\xe7\\x12\\x98qFc{\\xd6\\xc7JwM\\xab)\\xab\\x7f\\xd2\\xe6\\xd0\\x9c\\xf8x\\xca\\x975\\xe6\\x1b\\xf5\\xda\\x8a\\xab<\\x90Q\\xf46\\xdd\\xc4r\\x95\\x16\\xe5\\xb5gM\\xc7\\xfe\\xc4]r\\xe4\\x12\\xcd\\x03\\x0e;\\x9b\\xb5\\xd4\\xee\\xaa\\x92qp\\x95\\x83\\xf2_\\xfd\\xbe\\xfb\\x02\\xc4{\\x1c.p\\xeeG\\xa7n\\xe7\\xe5\\xea\\xc0\\xd6t\\x8b\\xc6\\xbex\\x02\\x94\\xaf~\\x96o\\x1e\\x16\\xfa\\xd3\\x07\\x02\\xfa*-j\\xed\\x86\\xabU[\\xbd\\xb2F\\x95\\x15\\x1b!\\x13X\\xbf3\\xe6\\xf6w\\x1c+\\xbbo\\xee\\xdfx\\x9d\\xa9\\xd1\\xa5.\\xcb*G\\xb9\\xf9\\xe4\\xaa\\x1e\\x00\\xc8\\xd9H\\xc5\\x88\\xf9\\xaaN\\x07\\x11\\xa8\\xbeA@\\xf2\\xfd~\\xb3l&\\xa1i\\xcd\\xf6\\xc9L-\\xeaeU\\xae69\\xbbEb\\xaa\\x15\\xa0u\\xdaFm;4\\x07?\\xa4[\\x13lX\\x12\\x99\\xe0\\x9cU5\\xdb:1\\x03\\xf2\\xec\\xf7\\xee~\\x97\\x99\\xd9\\x16\\xfb\\xc8\\xbfs\\x030\\x99L\"=\\xde\\x08=\\xda\\x07\\x7f.\\x02\\xc4\\x97\\xd6\\xc7\\x01\\xfd'\n",
        "\n",
        "name_file_key = \"private\"\n",
        "\n",
        "with open( name_file_key + \".pem\", 'rb') as key_file:\n",
        "    key = RSA.importKey(key_file.read())\n",
        "\n",
        "cipher = PKCS1_OAEP.new(key)\n",
        "message = cipher.decrypt(encrypted_message).decode()\n",
        "\n",
        "print(message)"
      ],
      "execution_count": 34,
      "outputs": [
        {
          "output_type": "stream",
          "text": [
            "Prueba de mensaje secreto\n"
          ],
          "name": "stdout"
        }
      ]
    }
  ]
}