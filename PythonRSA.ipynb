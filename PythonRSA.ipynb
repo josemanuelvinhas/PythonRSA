{
  "nbformat": 4,
  "nbformat_minor": 0,
  "metadata": {
    "colab": {
      "name": "PythonRSA.ipynb",
      "provenance": [],
      "collapsed_sections": [],
      "toc_visible": true,
      "authorship_tag": "ABX9TyNHIQPzFVVbvcnkrZ0k2CH8",
      "include_colab_link": true
    },
    "kernelspec": {
      "name": "python3",
      "display_name": "Python 3"
    }
  },
  "cells": [
    {
      "cell_type": "markdown",
      "metadata": {
        "id": "view-in-github",
        "colab_type": "text"
      },
      "source": [
        "<a href=\"https://colab.research.google.com/github/josemanuelvinhas/PythonRSA/blob/main/PythonRSA.ipynb\" target=\"_parent\"><img src=\"https://colab.research.google.com/assets/colab-badge.svg\" alt=\"Open In Colab\"/></a>"
      ]
    },
    {
      "cell_type": "markdown",
      "metadata": {
        "id": "T70tNev14Z94"
      },
      "source": [
        "#**PythonRSA**\n",
        "\n",
        "Este notebook implementa un sistema sencillo de cifrado y descifrado RSA en python\n",
        "\n",
        "0. Instalar Crypto\n",
        "1. Generar claves de cifrado RSA\n",
        "2. Cifrar un mensaje\n",
        "3. Descifrar un mensaje"
      ]
    },
    {
      "cell_type": "markdown",
      "metadata": {
        "id": "Pb91qMSTmZPk"
      },
      "source": [
        "#**0. Instalar Crypto**"
      ]
    },
    {
      "cell_type": "markdown",
      "metadata": {
        "id": "4pCPHgeFmvya"
      },
      "source": [
        "Como paso previo debemos instalar la librería Crypto, necesaria para los siguientes pasos"
      ]
    },
    {
      "cell_type": "code",
      "metadata": {
        "id": "xC_hqVS1mqiR",
        "outputId": "f26bc21a-008a-4a79-b4fa-05e47c20af5c",
        "colab": {
          "base_uri": "https://localhost:8080/"
        }
      },
      "source": [
        "!pip install pycryptodome==3.4.3"
      ],
      "execution_count": 2,
      "outputs": [
        {
          "output_type": "stream",
          "text": [
            "Collecting pycryptodome==3.4.3\n",
            "\u001b[?25l  Downloading https://files.pythonhosted.org/packages/45/ef/4514a01be3d8f5383cd12fc5612ffd8a2508ac7e7ff6bde2da708e71c9a3/pycryptodome-3.4.3.tar.gz (6.5MB)\n",
            "\u001b[K     |████████████████████████████████| 6.5MB 5.7MB/s \n",
            "\u001b[?25hBuilding wheels for collected packages: pycryptodome\n",
            "  Building wheel for pycryptodome (setup.py) ... \u001b[?25l\u001b[?25hdone\n",
            "  Created wheel for pycryptodome: filename=pycryptodome-3.4.3-cp36-cp36m-linux_x86_64.whl size=6813198 sha256=52f3fb50b9e4081c0564932d9d487e06bab2786cb6f2a8cbea0a1d120d250c25\n",
            "  Stored in directory: /root/.cache/pip/wheels/8f/9d/63/f6aea5612d1682a50b25857b0358e2ecec878a0bc42ba3af4c\n",
            "Successfully built pycryptodome\n",
            "Installing collected packages: pycryptodome\n",
            "Successfully installed pycryptodome-3.4.3\n"
          ],
          "name": "stdout"
        }
      ]
    },
    {
      "cell_type": "markdown",
      "metadata": {
        "id": "744aZ8uRjXeH"
      },
      "source": [
        "#**1. Generar claves de cifrado RSA**"
      ]
    },
    {
      "cell_type": "markdown",
      "metadata": {
        "id": "aO1LkGUikUek"
      },
      "source": [
        "El siguiente script genera un par de claves:\n",
        "1. Clave privada: se puede modificar el nombre en la variable *name_key_private*\n",
        "2. Clave pública: se puede modificar el nombre en la variable *name_key_public*\n",
        "\n",
        "Ambas claves se guardarán en formato *.pem*, específico para certificados digitales."
      ]
    },
    {
      "cell_type": "code",
      "metadata": {
        "id": "vggYQWfDjgP6"
      },
      "source": [
        "import Crypto\n",
        "from Crypto.PublicKey import RSA\n",
        "\n",
        "random_generator = Crypto.Random.new().read\n",
        "\n",
        "private_key = RSA.generate(2048, random_generator)\n",
        "public_key = private_key.publickey()\n",
        "\n",
        "name_key_private = \"private\"\n",
        "name_key_public = \"public\"\n",
        "\n",
        "with open (name_key_private + \".pem\", \"wb\") as prv_file:\n",
        "      prv_file.write(private_key.exportKey(\"PEM\"))\n",
        "\n",
        "with open (name_key_public + \".pem\", \"wb\") as pub_file:\n",
        "      pub_file.write(public_key.exportKey(\"PEM\"))\n",
        "\n"
      ],
      "execution_count": 3,
      "outputs": []
    },
    {
      "cell_type": "markdown",
      "metadata": {
        "id": "xC0FXXDdm8B9"
      },
      "source": [
        "#**2. Cifrar un mensaje**"
      ]
    },
    {
      "cell_type": "markdown",
      "metadata": {
        "id": "nFegjimppeL4"
      },
      "source": [
        "A continuación ciframos un mensaje con una clave almacenada en un archivo *.pem*\n",
        "\n",
        "\n",
        "*   El mensaje a cifrar se especifica en la variable *message*\n",
        "*   El nombre del archivo de la clave se especifica en la variable *name_file_key* (se debe tener encuenta que se le añade la extensión automáticamente)\n",
        "\n",
        "*NOTA: se debe cifrar con la clave pública del destinatario, para que descifre el mensaje con su clave privada*\n",
        "\n"
      ]
    },
    {
      "cell_type": "code",
      "metadata": {
        "id": "XGbrOfsam_1y",
        "outputId": "cf626a36-0768-4d4d-c1cb-a2f53ab84038",
        "colab": {
          "base_uri": "https://localhost:8080/",
          "height": 52
        }
      },
      "source": [
        "from Crypto.Cipher import PKCS1_OAEP\n",
        "from Crypto.PublicKey import RSA\n",
        "from base64 import b64decode\n",
        "from base64 import b64encode\n",
        "\n",
        "message = \"Mensaje de prueba\"\n",
        "\n",
        "name_file_key = \"public\"\n",
        "\n",
        "with open( name_file_key + \".pem\", 'rb') as key_file:\n",
        "    key = RSA.importKey(key_file.read())\n",
        "\n",
        "cipher = PKCS1_OAEP.new(key)\n",
        "message_encrypted = cipher.encrypt(message.encode())\n",
        "\n",
        "encode = b64encode(message_encrypted).decode(\"UTF-8\")\n",
        "encode"
      ],
      "execution_count": 6,
      "outputs": [
        {
          "output_type": "execute_result",
          "data": {
            "application/vnd.google.colaboratory.intrinsic+json": {
              "type": "string"
            },
            "text/plain": [
              "'o35F1sB6pI9V4LLuVoWZWFXTcbJhEhsiC2+mFO158YcuBCsFRyTWnrXUFHHJ3iIKzIdlQvMOjsar2jNSUoQWdOphUX7FEBLe9AJ8Vmy58R34eNvo+xNyZ9CYqYxihoqo0Z4hZ8rb2LtT80oDNnJXJSe9z7WbtHm21CREB3Uqu7NlFVWd+/e6N9cjj8mhLuG1kBxXAW3yKdB230O9ldig3DVunLqaKwOXjx075qk7sZp/lOywJE0CpAuJq3QRVla8sPDU4Gvl/9j/FWe0KWkUxm/xFrI8iqhcKeWjrqErBuq4jxURcjTLTCTlUGz0S5J2W8bwcAN2ESuIlpMw4JRUKg=='"
            ]
          },
          "metadata": {
            "tags": []
          },
          "execution_count": 6
        }
      ]
    },
    {
      "cell_type": "markdown",
      "metadata": {
        "id": "LAo16JIkvU99"
      },
      "source": [
        "#**3. Descifrar un mensaje**"
      ]
    },
    {
      "cell_type": "markdown",
      "metadata": {
        "id": "MeJtRVcJyrFY"
      },
      "source": [
        "A continuación desciframos un mensaje con una clave almacenada en un archivo *.pem*\n",
        "\n",
        "\n",
        "*   El mensaje a descifrar se especifica en la variable *encrypted_message*\n",
        "*   El nombre del archivo de la clave se especifica en la variable *name_file_key* (se debe tener encuenta que se le añade la extensión automáticamente)\n",
        "\n",
        "*NOTA: el mensaje se descifra con la clave privada, ya que el mensaje fue cifrado con la clave pública*"
      ]
    },
    {
      "cell_type": "code",
      "metadata": {
        "id": "DTt9t5ERvYj9",
        "outputId": "0fd45027-d513-4660-c053-f1447338640f",
        "colab": {
          "base_uri": "https://localhost:8080/"
        }
      },
      "source": [
        "from Crypto.Cipher import PKCS1_OAEP\n",
        "from Crypto.PublicKey import RSA\n",
        "from base64 import b64decode\n",
        "from base64 import b64encode\n",
        "\n",
        "encrypted_message = \"o35F1sB6pI9V4LLuVoWZWFXTcbJhEhsiC2+mFO158YcuBCsFRyTWnrXUFHHJ3iIKzIdlQvMOjsar2jNSUoQWdOphUX7FEBLe9AJ8Vmy58R34eNvo+xNyZ9CYqYxihoqo0Z4hZ8rb2LtT80oDNnJXJSe9z7WbtHm21CREB3Uqu7NlFVWd+/e6N9cjj8mhLuG1kBxXAW3yKdB230O9ldig3DVunLqaKwOXjx075qk7sZp/lOywJE0CpAuJq3QRVla8sPDU4Gvl/9j/FWe0KWkUxm/xFrI8iqhcKeWjrqErBuq4jxURcjTLTCTlUGz0S5J2W8bwcAN2ESuIlpMw4JRUKg==\"\n",
        "encrypted_message = b64decode(encrypted_message.encode())\n",
        "\n",
        "name_file_key = \"private\"\n",
        "\n",
        "with open( name_file_key + \".pem\", 'rb') as key_file:\n",
        "    key = RSA.importKey(key_file.read())\n",
        "\n",
        "cipher = PKCS1_OAEP.new(key)\n",
        "message = cipher.decrypt(encrypted_message).decode()\n",
        "\n",
        "print(message)"
      ],
      "execution_count": 8,
      "outputs": [
        {
          "output_type": "stream",
          "text": [
            "Mensaje de prueba\n"
          ],
          "name": "stdout"
        }
      ]
    }
  ]
}