{
  "nbformat": 4,
  "nbformat_minor": 0,
  "metadata": {
    "colab": {
      "name": "PythonRSA.ipynb",
      "provenance": [],
      "collapsed_sections": [],
      "toc_visible": true,
      "authorship_tag": "ABX9TyNMFkt+sGbmKHJhvClbbrGO"
    },
    "kernelspec": {
      "name": "python3",
      "display_name": "Python 3"
    }
  },
  "cells": [
    {
      "cell_type": "markdown",
      "metadata": {
        "id": "T70tNev14Z94"
      },
      "source": [
        "#**PythonRSA**\n",
        "\n",
        "Este notebook implementa un sistema sencillo de cifrado y descifrado RSA\n",
        "\n",
        "0. Instalar Crypto\n",
        "1. Generar claves de cifrado RSA\n",
        "2. Cifrar un mensaje\n",
        "3. Descifrar un mensaje"
      ]
    },
    {
      "cell_type": "markdown",
      "metadata": {
        "id": "Pb91qMSTmZPk"
      },
      "source": [
        "#**0. Instalar Crypto**"
      ]
    },
    {
      "cell_type": "markdown",
      "metadata": {
        "id": "4pCPHgeFmvya"
      },
      "source": [
        "Como paso previo debemos instalar la librería Crypto, necesaria para los siguientes pasos"
      ]
    },
    {
      "cell_type": "code",
      "metadata": {
        "id": "xC_hqVS1mqiR"
      },
      "source": [
        "!pip install pycryptodome==3.4.3"
      ],
      "execution_count": null,
      "outputs": []
    },
    {
      "cell_type": "markdown",
      "metadata": {
        "id": "744aZ8uRjXeH"
      },
      "source": [
        "#**1. Generar claves de cifrado RSA**"
      ]
    },
    {
      "cell_type": "markdown",
      "metadata": {
        "id": "aO1LkGUikUek"
      },
      "source": [
        "El siguiente script genera un par de claves:\n",
        "1. Clave privada: se puede modificar el nombre en la variable *name_key_private*\n",
        "2. Clave pública: se puede modificar el nombre en la variable *name_key_public*\n",
        "\n",
        "Ambas claves se guardarán en formato *.pem*, específico para certificados digitales."
      ]
    },
    {
      "cell_type": "code",
      "metadata": {
        "id": "vggYQWfDjgP6"
      },
      "source": [
        "import Crypto\n",
        "from Crypto.PublicKey import RSA\n",
        "\n",
        "random_generator = Crypto.Random.new().read\n",
        "\n",
        "private_key = RSA.generate(2048, random_generator)\n",
        "public_key = private_key.publickey()\n",
        "\n",
        "name_key_private = \"private\"\n",
        "name_key_public = \"public\"\n",
        "\n",
        "with open (name_key_private + \".pem\", \"wb\") as prv_file:\n",
        "      prv_file.write(private_key.exportKey(\"PEM\"))\n",
        "\n",
        "with open (name_key_public + \".pem\", \"wb\") as pub_file:\n",
        "      pub_file.write(public_key.exportKey(\"PEM\"))\n",
        "\n"
      ],
      "execution_count": 41,
      "outputs": []
    },
    {
      "cell_type": "markdown",
      "metadata": {
        "id": "xC0FXXDdm8B9"
      },
      "source": [
        "#**2. Cifrar un mensaje**"
      ]
    },
    {
      "cell_type": "markdown",
      "metadata": {
        "id": "nFegjimppeL4"
      },
      "source": [
        "A continuación ciframos un mensaje con una clave almacenada en un archivo *.pem*\n",
        "\n",
        "\n",
        "*   El mensaje a cifrar se especifica en la variable *message*\n",
        "*   El nombre del archivo de la clave se especifica en la variable *name_file_key* (se debe tener encuenta que se le añade la extensión automáticamente)\n",
        "\n",
        "*NOTA: se debe cifrar con la clave pública del destinatario, para que descifre el mensaje con su clave privada*\n",
        "\n"
      ]
    },
    {
      "cell_type": "code",
      "metadata": {
        "id": "XGbrOfsam_1y",
        "outputId": "dc5bc194-72cf-4e29-86c1-7ba2e4bc582d",
        "colab": {
          "base_uri": "https://localhost:8080/"
        }
      },
      "source": [
        "from Crypto.Cipher import PKCS1_OAEP\n",
        "from Crypto.PublicKey import RSA\n",
        "from base64 import b64decode\n",
        "\n",
        "message = \"Prueba de mensaje secreto\"\n",
        "\n",
        "name_file_key = \"public\"\n",
        "\n",
        "with open( name_file_key + \".pem\", 'rb') as key_file:\n",
        "    key = RSA.importKey(key_file.read())\n",
        "\n",
        "cipher = PKCS1_OAEP.new(key)\n",
        "message_encrypted = cipher.encrypt(message.encode())\n",
        "\n",
        "message_encrypted"
      ],
      "execution_count": 42,
      "outputs": [
        {
          "output_type": "execute_result",
          "data": {
            "text/plain": [
              "b\"\\t9\\x98\\x8b\\xa1@\\xd3\\x99\\x89\\xc8\\xde\\xed\\x8e\\x07CyeIJ\\xcec\\xd6z\\x99\\xb2\\xadP\\xdbk\\x93S\\x1e\\xa4\\x91\\xfcG\\xc7%\\x00\\xd6\\xc2\\xdfS\\xaf\\xa0i\\xc5\\x1b\\x84>&\\xef\\x95L<\\xb3\\x04\\x18\\xc7\\x84\\xb6\\xb5\\x87\\xea\\x9as]z6X\\n\\x9a\\xc8f\\xef\\xd3Y\\xea\\t-\\xb2e\\xda\\xd7\\xdd\\r\\x8f\\xfb\\xec(\\x9f\\x0f\\x00:\\xef\\x9b \\xcd\\x0e?\\xf4\\x1d\\x03\\x14\\x82<FP\\xf9\\xc7\\x0cI\\xa9\\x1d\\x16]y\\xa3v\\xecc\\x8f$\\x15\\xf5P2Mi\\xdf\\x11\\xd8*%\\xa3t\\xc1\\xd8\\x1d\\x94N\\xfeW\\xb0\\x8c\\xf18\\xb1\\xcc>d\\xea\\x82S\\x14\\x15Z0^\\x18\\xfa\\xe70\\x92Pj\\x82a\\xdaA\\xdf\\xbe\\x99\\n\\xf2\\xbd\\xd6.\\xfe_`Ew\\x98\\xcc,x F\\xacN\\x17\\xfa\\xbb\\x95\\xf0C\\x88\\x982\\x0f\\x900i\\x80k\\xf3\\xce2\\xa7t\\xf2:\\x84\\x96\\x91@h\\r\\xc1\\xe2N4\\xc9|\\xf5M\\xdcky\\xc6,wI'\\x04\\xd93\\xbb\\xfacX\\xd2\\xde\\x1dw\\xfc&y!Q\\xaaHb\\xe4\\xbe\""
            ]
          },
          "metadata": {
            "tags": []
          },
          "execution_count": 42
        }
      ]
    },
    {
      "cell_type": "markdown",
      "metadata": {
        "id": "LAo16JIkvU99"
      },
      "source": [
        "#**3. Descifrar un mensaje**"
      ]
    },
    {
      "cell_type": "markdown",
      "metadata": {
        "id": "MeJtRVcJyrFY"
      },
      "source": [
        "A continuación desciframos un mensaje con una clave almacenada en un archivo *.pem*\n",
        "\n",
        "\n",
        "*   El mensaje a descifrar se especifica en la variable *encrypted_message*\n",
        "*   El nombre del archivo de la clave se especifica en la variable *name_file_key* (se debe tener encuenta que se le añade la extensión automáticamente)\n",
        "\n",
        "*NOTA: el mensaje se descifra con la clave privada, ya que el mensaje fue cifrado con la clave pública*"
      ]
    },
    {
      "cell_type": "code",
      "metadata": {
        "id": "DTt9t5ERvYj9",
        "outputId": "89ee2e8e-aa7f-4285-ef38-11dd2c7009b7",
        "colab": {
          "base_uri": "https://localhost:8080/"
        }
      },
      "source": [
        "from Crypto.Cipher import PKCS1_OAEP\n",
        "from Crypto.PublicKey import RSA\n",
        "from base64 import b64decode\n",
        "\n",
        "encrypted_message = b\"\\t9\\x98\\x8b\\xa1@\\xd3\\x99\\x89\\xc8\\xde\\xed\\x8e\\x07CyeIJ\\xcec\\xd6z\\x99\\xb2\\xadP\\xdbk\\x93S\\x1e\\xa4\\x91\\xfcG\\xc7%\\x00\\xd6\\xc2\\xdfS\\xaf\\xa0i\\xc5\\x1b\\x84>&\\xef\\x95L<\\xb3\\x04\\x18\\xc7\\x84\\xb6\\xb5\\x87\\xea\\x9as]z6X\\n\\x9a\\xc8f\\xef\\xd3Y\\xea\\t-\\xb2e\\xda\\xd7\\xdd\\r\\x8f\\xfb\\xec(\\x9f\\x0f\\x00:\\xef\\x9b \\xcd\\x0e?\\xf4\\x1d\\x03\\x14\\x82<FP\\xf9\\xc7\\x0cI\\xa9\\x1d\\x16]y\\xa3v\\xecc\\x8f$\\x15\\xf5P2Mi\\xdf\\x11\\xd8*%\\xa3t\\xc1\\xd8\\x1d\\x94N\\xfeW\\xb0\\x8c\\xf18\\xb1\\xcc>d\\xea\\x82S\\x14\\x15Z0^\\x18\\xfa\\xe70\\x92Pj\\x82a\\xdaA\\xdf\\xbe\\x99\\n\\xf2\\xbd\\xd6.\\xfe_`Ew\\x98\\xcc,x F\\xacN\\x17\\xfa\\xbb\\x95\\xf0C\\x88\\x982\\x0f\\x900i\\x80k\\xf3\\xce2\\xa7t\\xf2:\\x84\\x96\\x91@h\\r\\xc1\\xe2N4\\xc9|\\xf5M\\xdcky\\xc6,wI'\\x04\\xd93\\xbb\\xfacX\\xd2\\xde\\x1dw\\xfc&y!Q\\xaaHb\\xe4\\xbe\"\n",
        "\n",
        "name_file_key = \"private\"\n",
        "\n",
        "with open( name_file_key + \".pem\", 'rb') as key_file:\n",
        "    key = RSA.importKey(key_file.read())\n",
        "\n",
        "cipher = PKCS1_OAEP.new(key)\n",
        "message = cipher.decrypt(encrypted_message).decode()\n",
        "\n",
        "print(message)"
      ],
      "execution_count": 46,
      "outputs": [
        {
          "output_type": "stream",
          "text": [
            "Prueba de mensaje secreto\n"
          ],
          "name": "stdout"
        }
      ]
    }
  ]
}