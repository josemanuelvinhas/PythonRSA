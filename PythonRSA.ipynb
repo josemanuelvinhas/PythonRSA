{
  "nbformat": 4,
  "nbformat_minor": 0,
  "metadata": {
    "colab": {
      "name": "PythonRSA.ipynb",
      "provenance": [],
      "collapsed_sections": [],
      "toc_visible": true,
      "authorship_tag": "ABX9TyPUoVx7Eja4IOzP/pgtW/aC"
    },
    "kernelspec": {
      "name": "python3",
      "display_name": "Python 3"
    }
  },
  "cells": [
    {
      "cell_type": "markdown",
      "metadata": {
        "id": "Pb91qMSTmZPk"
      },
      "source": [
        "#**0. Instalar Crypto**"
      ]
    },
    {
      "cell_type": "markdown",
      "metadata": {
        "id": "4pCPHgeFmvya"
      },
      "source": [
        "Como paso previo debemos instalar la librería Crypto"
      ]
    },
    {
      "cell_type": "code",
      "metadata": {
        "id": "xC_hqVS1mqiR"
      },
      "source": [
        "!pip install pycryptodome==3.4.3"
      ],
      "execution_count": null,
      "outputs": []
    },
    {
      "cell_type": "markdown",
      "metadata": {
        "id": "744aZ8uRjXeH"
      },
      "source": [
        "#**1. Generar claves de cifrado RSA**"
      ]
    },
    {
      "cell_type": "markdown",
      "metadata": {
        "id": "aO1LkGUikUek"
      },
      "source": [
        "El siguiente script genera un par de claves:\n",
        "1. Clave privada: se puede modificar el nombre en la variable *name_key_private*\n",
        "2. Clave pública: se puede modificar el nombre en la variable *name_key_public*\n",
        "\n",
        "Ambas claves se guardarán en formato *.pem*, específico para certificados digitales."
      ]
    },
    {
      "cell_type": "code",
      "metadata": {
        "id": "vggYQWfDjgP6"
      },
      "source": [
        "import Crypto\n",
        "from Crypto.PublicKey import RSA\n",
        "\n",
        "random_generator = Crypto.Random.new().read\n",
        "\n",
        "private_key = RSA.generate(2048, random_generator)\n",
        "public_key = private_key.publickey()\n",
        "\n",
        "name_key_private = \"private\"\n",
        "name_key_public = \"public\"\n",
        "\n",
        "with open (name_key_private + \".pem\", \"wb\") as prv_file:\n",
        "      prv_file.write(private_key.exportKey(\"PEM\"))\n",
        "\n",
        "with open (name_key_public + \".pem\", \"wb\") as pub_file:\n",
        "      pub_file.write(public_key.exportKey(\"PEM\"))\n",
        "\n"
      ],
      "execution_count": 21,
      "outputs": []
    },
    {
      "cell_type": "markdown",
      "metadata": {
        "id": "xC0FXXDdm8B9"
      },
      "source": [
        "#**2. Cifrar un mensaje**"
      ]
    },
    {
      "cell_type": "markdown",
      "metadata": {
        "id": "nFegjimppeL4"
      },
      "source": [
        "A continuación ciframos un mensaje con una clave almacenada en un archivo *.pem*\n",
        "\n",
        "\n",
        "*   El mensaje a cifrar se especifica en la variable *message*\n",
        "*   El nombre del archivo de la clave se especifica en la variable *name_file_key* (se debe tener encuenta que se le añade la extensión automáticamente)\n",
        "\n",
        "*NOTA: se debe cifrar con la clave pública del destinatario, para que descifre el mensaje con su clave privada*\n",
        "\n"
      ]
    },
    {
      "cell_type": "code",
      "metadata": {
        "id": "XGbrOfsam_1y",
        "outputId": "3e16b5c2-1374-46ba-db9d-cac9279148ba",
        "colab": {
          "base_uri": "https://localhost:8080/"
        }
      },
      "source": [
        "from Crypto.Cipher import PKCS1_OAEP\n",
        "from Crypto.PublicKey import RSA\n",
        "from base64 import b64decode\n",
        "\n",
        "message = \"Pureba de mensaje secreto\"\n",
        "\n",
        "name_file_key = \"public\"\n",
        "\n",
        "with open( name_file_key + \".pem\", 'rb') as key_file:\n",
        "    key = RSA.importKey(key_file.read())\n",
        "\n",
        "cipher = PKCS1_OAEP.new(key)\n",
        "message_encrypted = cipher.encrypt(message.encode())\n",
        "\n",
        "message_encrypted"
      ],
      "execution_count": 28,
      "outputs": [
        {
          "output_type": "execute_result",
          "data": {
            "text/plain": [
              "b'h\\x81\\xdb\\x9e\\xacC\\xa7\\xde\\xd1\\xa0\\x8f\\x93\\n\\xde\\xbf\\xd2\\x07v\\x06\\xeeodx\\xb0y\\xd3\\\\\\xef%\\xcd\\x9f\\x05l\\x92y\\xf7\\x17\\x83\\xa7\\x98\\xd5Rq\\xed\\x04}9o\\x9cl\\xf7f\\xe8\\xd9\\xdak\\xc4\\xa2\\xc8Y\\xbfs\\xf5\\xa2\\x83\\r\\xaf\\x96{\\x8c\\x8fLH\\xd6\\x9b\\xf1\\xe1$\\xa2\\xcc\\xf8l\\xfa\\x9a\\xc0\\xae\\xfbx\\x84\\xa6`0J\\xa5\\x849\\x0bX\\xd3\\x88-\\xd7B\\xae\\xdbV\\xda+<\\xd9]\\xa6\\x89\\x8a\\xf9\\xe0pd\\xe8\\x89\\x07o\\x1aY\\xf9\\xfc\\x9eh\\xf3\\xa0\\xcbV\\xe4\\xa55\\t\\xbe$\\xa0\\x9e\\xa4\\xa2]\\xb6\\x87\\x84\\xf6\\xc5\\x9eP\\x00\\x7fm\\xfe\\x15\\xb7\\xefH\"\\x85a\\x88F\\xa3\\xb9\\xa8m@\\x87c\\xad\\xfeg\\x0c\"\\xb0\\xda\\x02\\x9a\\xbb\\xbe\\xaf\\xd1b\\xe0\\x82\\xe4-+\\x06\\xf5M\\x04\\x9d\\x88\\xba\\xb7v\\x03_|\\x90p\\xab\\xd8\\x164\\xd7\\xaf\\x9b\\xa2\\xf7\\x1d\\xee\\xfc\\xcf[q\\x1c\\xc3\\xef\\x1dc\\xe6\\xeb\\x80\\xfb\\x05n^\\xfd\\x19\\xbd\\x88Ycc\\x89\\x8fb7u\\xf9\\xca\\xc7\\x97%\\x004\\xb6\\xe7\\x92\\x04y\\xf2$'"
            ]
          },
          "metadata": {
            "tags": []
          },
          "execution_count": 28
        }
      ]
    },
    {
      "cell_type": "markdown",
      "metadata": {
        "id": "LAo16JIkvU99"
      },
      "source": [
        "#**3. Descifrar un mensaje**"
      ]
    },
    {
      "cell_type": "markdown",
      "metadata": {
        "id": "MeJtRVcJyrFY"
      },
      "source": [
        "A continuación desciframos un mensaje con una clave almacenada en un archivo *.pem*\n",
        "\n",
        "\n",
        "*   El mensaje a descifrar se especifica en la variable *encrypted_message*\n",
        "*   El nombre del archivo de la clave se especifica en la variable *name_file_key* (se debe tener encuenta que se le añade la extensión automáticamente)\n",
        "\n",
        "*NOTA: el mensaje se descifra con la clave privada, ya que el mensaje fue cifrado con la clave pública*"
      ]
    },
    {
      "cell_type": "code",
      "metadata": {
        "id": "DTt9t5ERvYj9",
        "outputId": "30e179df-c116-4e59-b254-a8b9ee7349e2",
        "colab": {
          "base_uri": "https://localhost:8080/"
        }
      },
      "source": [
        "from Crypto.Cipher import PKCS1_OAEP\n",
        "from Crypto.PublicKey import RSA\n",
        "from base64 import b64decode\n",
        "\n",
        "encrypted_message = b'h\\x81\\xdb\\x9e\\xacC\\xa7\\xde\\xd1\\xa0\\x8f\\x93\\n\\xde\\xbf\\xd2\\x07v\\x06\\xeeodx\\xb0y\\xd3\\\\\\xef%\\xcd\\x9f\\x05l\\x92y\\xf7\\x17\\x83\\xa7\\x98\\xd5Rq\\xed\\x04}9o\\x9cl\\xf7f\\xe8\\xd9\\xdak\\xc4\\xa2\\xc8Y\\xbfs\\xf5\\xa2\\x83\\r\\xaf\\x96{\\x8c\\x8fLH\\xd6\\x9b\\xf1\\xe1$\\xa2\\xcc\\xf8l\\xfa\\x9a\\xc0\\xae\\xfbx\\x84\\xa6`0J\\xa5\\x849\\x0bX\\xd3\\x88-\\xd7B\\xae\\xdbV\\xda+<\\xd9]\\xa6\\x89\\x8a\\xf9\\xe0pd\\xe8\\x89\\x07o\\x1aY\\xf9\\xfc\\x9eh\\xf3\\xa0\\xcbV\\xe4\\xa55\\t\\xbe$\\xa0\\x9e\\xa4\\xa2]\\xb6\\x87\\x84\\xf6\\xc5\\x9eP\\x00\\x7fm\\xfe\\x15\\xb7\\xefH\"\\x85a\\x88F\\xa3\\xb9\\xa8m@\\x87c\\xad\\xfeg\\x0c\"\\xb0\\xda\\x02\\x9a\\xbb\\xbe\\xaf\\xd1b\\xe0\\x82\\xe4-+\\x06\\xf5M\\x04\\x9d\\x88\\xba\\xb7v\\x03_|\\x90p\\xab\\xd8\\x164\\xd7\\xaf\\x9b\\xa2\\xf7\\x1d\\xee\\xfc\\xcf[q\\x1c\\xc3\\xef\\x1dc\\xe6\\xeb\\x80\\xfb\\x05n^\\xfd\\x19\\xbd\\x88Ycc\\x89\\x8fb7u\\xf9\\xca\\xc7\\x97%\\x004\\xb6\\xe7\\x92\\x04y\\xf2$'\n",
        "\n",
        "name_file_key = \"private\"\n",
        "\n",
        "with open( name_file_key + \".pem\", 'rb') as key_file:\n",
        "    key = RSA.importKey(key_file.read())\n",
        "\n",
        "cipher = PKCS1_OAEP.new(key)\n",
        "message = cipher.decrypt(encrypted_message).decode()\n",
        "\n",
        "print(message)"
      ],
      "execution_count": 31,
      "outputs": [
        {
          "output_type": "stream",
          "text": [
            "Pureba de mensaje secreto\n"
          ],
          "name": "stdout"
        }
      ]
    }
  ]
}