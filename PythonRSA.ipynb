{
  "nbformat": 4,
  "nbformat_minor": 0,
  "metadata": {
    "colab": {
      "name": "PythonRSA.ipynb",
      "provenance": [],
      "collapsed_sections": [],
      "toc_visible": true,
      "authorship_tag": "ABX9TyP82H1zCfhTfHJSjRCTDa8K",
      "include_colab_link": true
    },
    "kernelspec": {
      "name": "python3",
      "display_name": "Python 3"
    }
  },
  "cells": [
    {
      "cell_type": "markdown",
      "metadata": {
        "id": "view-in-github",
        "colab_type": "text"
      },
      "source": [
        "<a href=\"https://colab.research.google.com/github/josemanuelvinhas/PythonRSA/blob/main/PythonRSA.ipynb\" target=\"_parent\"><img src=\"https://colab.research.google.com/assets/colab-badge.svg\" alt=\"Open In Colab\"/></a>"
      ]
    },
    {
      "cell_type": "markdown",
      "metadata": {
        "id": "T70tNev14Z94"
      },
      "source": [
        "#**PythonRSA**\n",
        "\n",
        "Este notebook implementa un sistema sencillo de cifrado y descifrado RSA en python\n",
        "\n",
        "0. Instalar Crypto\n",
        "1. Generar claves de cifrado RSA\n",
        "2. Cifrar un mensaje\n",
        "3. Descifrar un mensaje"
      ]
    },
    {
      "cell_type": "markdown",
      "metadata": {
        "id": "Pb91qMSTmZPk"
      },
      "source": [
        "#**0. Instalar Crypto**"
      ]
    },
    {
      "cell_type": "markdown",
      "metadata": {
        "id": "4pCPHgeFmvya"
      },
      "source": [
        "Como paso previo debemos instalar la librería Crypto, necesaria para los siguientes pasos"
      ]
    },
    {
      "cell_type": "code",
      "metadata": {
        "id": "xC_hqVS1mqiR"
      },
      "source": [
        "!pip install pycryptodome==3.4.3"
      ],
      "execution_count": null,
      "outputs": []
    },
    {
      "cell_type": "markdown",
      "metadata": {
        "id": "744aZ8uRjXeH"
      },
      "source": [
        "#**1. Generar claves de cifrado RSA**"
      ]
    },
    {
      "cell_type": "markdown",
      "metadata": {
        "id": "aO1LkGUikUek"
      },
      "source": [
        "El siguiente script genera un par de claves:\n",
        "1. Clave privada: se puede modificar el nombre en la variable *name_key_private*\n",
        "2. Clave pública: se puede modificar el nombre en la variable *name_key_public*\n",
        "\n",
        "Ambas claves se guardarán en formato *.pem*, específico para certificados digitales."
      ]
    },
    {
      "cell_type": "code",
      "metadata": {
        "id": "vggYQWfDjgP6"
      },
      "source": [
        "import Crypto\n",
        "from Crypto.PublicKey import RSA\n",
        "\n",
        "random_generator = Crypto.Random.new().read\n",
        "\n",
        "private_key = RSA.generate(2048, random_generator)\n",
        "public_key = private_key.publickey()\n",
        "\n",
        "name_key_private = \"private\"\n",
        "name_key_public = \"public\"\n",
        "\n",
        "with open (name_key_private + \".pem\", \"wb\") as prv_file:\n",
        "      prv_file.write(private_key.exportKey(\"PEM\"))\n",
        "\n",
        "with open (name_key_public + \".pem\", \"wb\") as pub_file:\n",
        "      pub_file.write(public_key.exportKey(\"PEM\"))\n",
        "\n"
      ],
      "execution_count": 41,
      "outputs": []
    },
    {
      "cell_type": "markdown",
      "metadata": {
        "id": "xC0FXXDdm8B9"
      },
      "source": [
        "#**2. Cifrar un mensaje**"
      ]
    },
    {
      "cell_type": "markdown",
      "metadata": {
        "id": "nFegjimppeL4"
      },
      "source": [
        "A continuación ciframos un mensaje con una clave almacenada en un archivo *.pem*\n",
        "\n",
        "\n",
        "*   El mensaje a cifrar se especifica en la variable *message*\n",
        "*   El nombre del archivo de la clave se especifica en la variable *name_file_key* (se debe tener encuenta que se le añade la extensión automáticamente)\n",
        "\n",
        "*NOTA: se debe cifrar con la clave pública del destinatario, para que descifre el mensaje con su clave privada*\n",
        "\n"
      ]
    },
    {
      "cell_type": "code",
      "metadata": {
        "id": "XGbrOfsam_1y",
        "outputId": "ea314aa3-a9cd-442e-b8a6-a6a733850981",
        "colab": {
          "base_uri": "https://localhost:8080/",
          "height": 52
        }
      },
      "source": [
        "from Crypto.Cipher import PKCS1_OAEP\n",
        "from Crypto.PublicKey import RSA\n",
        "from base64 import b64decode\n",
        "import base64\n",
        "\n",
        "message = \"Mensaje de prueba\"\n",
        "\n",
        "name_file_key = \"public\"\n",
        "\n",
        "with open( name_file_key + \".pem\", 'rb') as key_file:\n",
        "    key = RSA.importKey(key_file.read())\n",
        "\n",
        "cipher = PKCS1_OAEP.new(key)\n",
        "message_encrypted = cipher.encrypt(message.encode())\n",
        "\n",
        "encode = base64.b64encode(message_encrypted).decode(\"UTF-8\")\n",
        "encode"
      ],
      "execution_count": 62,
      "outputs": [
        {
          "output_type": "execute_result",
          "data": {
            "application/vnd.google.colaboratory.intrinsic+json": {
              "type": "string"
            },
            "text/plain": [
              "'eOggfQywEt18LZuv2wfnhA4BXk2q1DJiObNFvdaLJqTxZzg/LtsrBZQyBLj+rePfm+1HpR2jjv1qTLH+oO5xZjsG2mmdQQJXGEvt/hlXs9D/p62X4LyjfCQK78FNwVOrnVwEEIwd5qSHSovfqjEeCaZh+ow5wIkqrcj99NdxXLDXaj++WZdxfATi04wNBQ2R6uhbbPtnbmgep9/aX5z5WuGHfbJr7SVxHOVasyU3Xh3lvsealxHhnCORI2J8UqWFJ/7APXicEE5ijbgvxXqdI6UKHXblO5q76zxHKIMzxB9L4cHCGy/XTDWG6rfin32SNsGfD7FYKvG3RwqaNZOCzg=='"
            ]
          },
          "metadata": {
            "tags": []
          },
          "execution_count": 62
        }
      ]
    },
    {
      "cell_type": "markdown",
      "metadata": {
        "id": "LAo16JIkvU99"
      },
      "source": [
        "#**3. Descifrar un mensaje**"
      ]
    },
    {
      "cell_type": "markdown",
      "metadata": {
        "id": "MeJtRVcJyrFY"
      },
      "source": [
        "A continuación desciframos un mensaje con una clave almacenada en un archivo *.pem*\n",
        "\n",
        "\n",
        "*   El mensaje a descifrar se especifica en la variable *encrypted_message*\n",
        "*   El nombre del archivo de la clave se especifica en la variable *name_file_key* (se debe tener encuenta que se le añade la extensión automáticamente)\n",
        "\n",
        "*NOTA: el mensaje se descifra con la clave privada, ya que el mensaje fue cifrado con la clave pública*"
      ]
    },
    {
      "cell_type": "code",
      "metadata": {
        "id": "DTt9t5ERvYj9",
        "outputId": "218d7bd7-9a2a-483a-fcc2-b0125645cf5d",
        "colab": {
          "base_uri": "https://localhost:8080/"
        }
      },
      "source": [
        "from Crypto.Cipher import PKCS1_OAEP\n",
        "from Crypto.PublicKey import RSA\n",
        "from base64 import b64decode\n",
        "\n",
        "encrypted_message = \"eOggfQywEt18LZuv2wfnhA4BXk2q1DJiObNFvdaLJqTxZzg/LtsrBZQyBLj+rePfm+1HpR2jjv1qTLH+oO5xZjsG2mmdQQJXGEvt/hlXs9D/p62X4LyjfCQK78FNwVOrnVwEEIwd5qSHSovfqjEeCaZh+ow5wIkqrcj99NdxXLDXaj++WZdxfATi04wNBQ2R6uhbbPtnbmgep9/aX5z5WuGHfbJr7SVxHOVasyU3Xh3lvsealxHhnCORI2J8UqWFJ/7APXicEE5ijbgvxXqdI6UKHXblO5q76zxHKIMzxB9L4cHCGy/XTDWG6rfin32SNsGfD7FYKvG3RwqaNZOCzg==\"\n",
        "encrypted_message = base64.b64decode(encrypted_message.encode())\n",
        "\n",
        "name_file_key = \"private\"\n",
        "\n",
        "with open( name_file_key + \".pem\", 'rb') as key_file:\n",
        "    key = RSA.importKey(key_file.read())\n",
        "\n",
        "cipher = PKCS1_OAEP.new(key)\n",
        "message = cipher.decrypt(encrypted_message).decode()\n",
        "\n",
        "print(message)"
      ],
      "execution_count": 63,
      "outputs": [
        {
          "output_type": "stream",
          "text": [
            "Mensaje de prueba\n"
          ],
          "name": "stdout"
        }
      ]
    }
  ]
}